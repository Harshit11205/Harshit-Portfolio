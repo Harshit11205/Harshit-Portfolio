{
 "cells": [
  {
   "cell_type": "markdown",
   "id": "bbf5dedb-4fb9-4ecf-b2bb-582d81c246ab",
   "metadata": {},
   "source": [
    "# GOOGLE STOCK PRICE PREDICTION USING LSTM MODEL"
   ]
  },
  {
   "cell_type": "code",
   "execution_count": 202,
   "id": "722e1287-fb7b-4589-a625-575d501ffc9e",
   "metadata": {},
   "outputs": [],
   "source": [
    "#importing libraries\n",
    "import pandas as pd\n",
    "import numpy as np\n",
    "import matplotlib.pyplot as plt\n",
    "%matplotlib inline\n",
    "import seaborn as sns\n",
    "import os\n",
    "import math\n",
    "import datetime as dt\n",
    "\n",
    "from sklearn.preprocessing import MinMaxScaler\n",
    "import tensorflow as tf\n",
    "from tensorflow.keras.models import Sequential\n",
    "from tensorflow.keras.layers import Dense, Dropout \n",
    "from tensorflow.keras.layers import LSTM\n"
   ]
  },
  {
   "cell_type": "code",
   "execution_count": 141,
   "id": "bf75426d-fab3-419e-be45-a40c2ba498c0",
   "metadata": {},
   "outputs": [],
   "source": [
    "#Loading Dataset\n",
    "df=pd.read_csv('GOOG.csv')"
   ]
  },
  {
   "cell_type": "code",
   "execution_count": 142,
   "id": "c2062334-ec87-42f4-8148-9f900303bf55",
   "metadata": {},
   "outputs": [
    {
     "data": {
      "text/html": [
       "<div>\n",
       "<style scoped>\n",
       "    .dataframe tbody tr th:only-of-type {\n",
       "        vertical-align: middle;\n",
       "    }\n",
       "\n",
       "    .dataframe tbody tr th {\n",
       "        vertical-align: top;\n",
       "    }\n",
       "\n",
       "    .dataframe thead th {\n",
       "        text-align: right;\n",
       "    }\n",
       "</style>\n",
       "<table border=\"1\" class=\"dataframe\">\n",
       "  <thead>\n",
       "    <tr style=\"text-align: right;\">\n",
       "      <th></th>\n",
       "      <th>Date</th>\n",
       "      <th>Open</th>\n",
       "      <th>High</th>\n",
       "      <th>Low</th>\n",
       "      <th>Close</th>\n",
       "      <th>Adj Close</th>\n",
       "      <th>Volume</th>\n",
       "    </tr>\n",
       "  </thead>\n",
       "  <tbody>\n",
       "    <tr>\n",
       "      <th>0</th>\n",
       "      <td>2022-10-03</td>\n",
       "      <td>97.220001</td>\n",
       "      <td>99.970001</td>\n",
       "      <td>97.019997</td>\n",
       "      <td>99.300003</td>\n",
       "      <td>99.300003</td>\n",
       "      <td>24840000</td>\n",
       "    </tr>\n",
       "    <tr>\n",
       "      <th>1</th>\n",
       "      <td>2022-10-04</td>\n",
       "      <td>101.040001</td>\n",
       "      <td>102.720001</td>\n",
       "      <td>101.040001</td>\n",
       "      <td>102.410004</td>\n",
       "      <td>102.410004</td>\n",
       "      <td>22580900</td>\n",
       "    </tr>\n",
       "    <tr>\n",
       "      <th>2</th>\n",
       "      <td>2022-10-05</td>\n",
       "      <td>100.690002</td>\n",
       "      <td>102.739998</td>\n",
       "      <td>99.739998</td>\n",
       "      <td>102.220001</td>\n",
       "      <td>102.220001</td>\n",
       "      <td>18475500</td>\n",
       "    </tr>\n",
       "    <tr>\n",
       "      <th>3</th>\n",
       "      <td>2022-10-06</td>\n",
       "      <td>101.500000</td>\n",
       "      <td>103.730003</td>\n",
       "      <td>101.500000</td>\n",
       "      <td>102.239998</td>\n",
       "      <td>102.239998</td>\n",
       "      <td>17156200</td>\n",
       "    </tr>\n",
       "    <tr>\n",
       "      <th>4</th>\n",
       "      <td>2022-10-07</td>\n",
       "      <td>100.650002</td>\n",
       "      <td>101.419998</td>\n",
       "      <td>99.209999</td>\n",
       "      <td>99.570000</td>\n",
       "      <td>99.570000</td>\n",
       "      <td>24249900</td>\n",
       "    </tr>\n",
       "  </tbody>\n",
       "</table>\n",
       "</div>"
      ],
      "text/plain": [
       "         Date        Open        High         Low       Close   Adj Close  \\\n",
       "0  2022-10-03   97.220001   99.970001   97.019997   99.300003   99.300003   \n",
       "1  2022-10-04  101.040001  102.720001  101.040001  102.410004  102.410004   \n",
       "2  2022-10-05  100.690002  102.739998   99.739998  102.220001  102.220001   \n",
       "3  2022-10-06  101.500000  103.730003  101.500000  102.239998  102.239998   \n",
       "4  2022-10-07  100.650002  101.419998   99.209999   99.570000   99.570000   \n",
       "\n",
       "     Volume  \n",
       "0  24840000  \n",
       "1  22580900  \n",
       "2  18475500  \n",
       "3  17156200  \n",
       "4  24249900  "
      ]
     },
     "execution_count": 142,
     "metadata": {},
     "output_type": "execute_result"
    }
   ],
   "source": [
    "#loading head & tail\n",
    "df.head()"
   ]
  },
  {
   "cell_type": "code",
   "execution_count": 143,
   "id": "0a68efae-2176-478f-8ee5-d5d2949db0d1",
   "metadata": {},
   "outputs": [
    {
     "data": {
      "text/html": [
       "<div>\n",
       "<style scoped>\n",
       "    .dataframe tbody tr th:only-of-type {\n",
       "        vertical-align: middle;\n",
       "    }\n",
       "\n",
       "    .dataframe tbody tr th {\n",
       "        vertical-align: top;\n",
       "    }\n",
       "\n",
       "    .dataframe thead th {\n",
       "        text-align: right;\n",
       "    }\n",
       "</style>\n",
       "<table border=\"1\" class=\"dataframe\">\n",
       "  <thead>\n",
       "    <tr style=\"text-align: right;\">\n",
       "      <th></th>\n",
       "      <th>Date</th>\n",
       "      <th>Open</th>\n",
       "      <th>High</th>\n",
       "      <th>Low</th>\n",
       "      <th>Close</th>\n",
       "      <th>Adj Close</th>\n",
       "      <th>Volume</th>\n",
       "    </tr>\n",
       "  </thead>\n",
       "  <tbody>\n",
       "    <tr>\n",
       "      <th>246</th>\n",
       "      <td>2023-09-26</td>\n",
       "      <td>130.914001</td>\n",
       "      <td>131.404999</td>\n",
       "      <td>128.190002</td>\n",
       "      <td>129.449997</td>\n",
       "      <td>129.449997</td>\n",
       "      <td>20378800</td>\n",
       "    </tr>\n",
       "    <tr>\n",
       "      <th>247</th>\n",
       "      <td>2023-09-27</td>\n",
       "      <td>129.440002</td>\n",
       "      <td>131.720001</td>\n",
       "      <td>129.380005</td>\n",
       "      <td>131.460007</td>\n",
       "      <td>131.460007</td>\n",
       "      <td>18764200</td>\n",
       "    </tr>\n",
       "    <tr>\n",
       "      <th>248</th>\n",
       "      <td>2023-09-28</td>\n",
       "      <td>130.690002</td>\n",
       "      <td>134.179993</td>\n",
       "      <td>130.690002</td>\n",
       "      <td>133.130005</td>\n",
       "      <td>133.130005</td>\n",
       "      <td>18201400</td>\n",
       "    </tr>\n",
       "    <tr>\n",
       "      <th>249</th>\n",
       "      <td>2023-09-29</td>\n",
       "      <td>134.080002</td>\n",
       "      <td>134.889999</td>\n",
       "      <td>131.320007</td>\n",
       "      <td>131.850006</td>\n",
       "      <td>131.850006</td>\n",
       "      <td>23224200</td>\n",
       "    </tr>\n",
       "    <tr>\n",
       "      <th>250</th>\n",
       "      <td>2023-10-02</td>\n",
       "      <td>132.154999</td>\n",
       "      <td>135.360001</td>\n",
       "      <td>132.065002</td>\n",
       "      <td>135.169998</td>\n",
       "      <td>135.169998</td>\n",
       "      <td>19189000</td>\n",
       "    </tr>\n",
       "  </tbody>\n",
       "</table>\n",
       "</div>"
      ],
      "text/plain": [
       "           Date        Open        High         Low       Close   Adj Close  \\\n",
       "246  2023-09-26  130.914001  131.404999  128.190002  129.449997  129.449997   \n",
       "247  2023-09-27  129.440002  131.720001  129.380005  131.460007  131.460007   \n",
       "248  2023-09-28  130.690002  134.179993  130.690002  133.130005  133.130005   \n",
       "249  2023-09-29  134.080002  134.889999  131.320007  131.850006  131.850006   \n",
       "250  2023-10-02  132.154999  135.360001  132.065002  135.169998  135.169998   \n",
       "\n",
       "       Volume  \n",
       "246  20378800  \n",
       "247  18764200  \n",
       "248  18201400  \n",
       "249  23224200  \n",
       "250  19189000  "
      ]
     },
     "execution_count": 143,
     "metadata": {},
     "output_type": "execute_result"
    }
   ],
   "source": [
    "df.tail()"
   ]
  },
  {
   "cell_type": "code",
   "execution_count": 149,
   "id": "1b185da4-316a-4bef-9a93-825bb8e20a95",
   "metadata": {},
   "outputs": [
    {
     "data": {
      "text/html": [
       "<div>\n",
       "<style scoped>\n",
       "    .dataframe tbody tr th:only-of-type {\n",
       "        vertical-align: middle;\n",
       "    }\n",
       "\n",
       "    .dataframe tbody tr th {\n",
       "        vertical-align: top;\n",
       "    }\n",
       "\n",
       "    .dataframe thead th {\n",
       "        text-align: right;\n",
       "    }\n",
       "</style>\n",
       "<table border=\"1\" class=\"dataframe\">\n",
       "  <thead>\n",
       "    <tr style=\"text-align: right;\">\n",
       "      <th></th>\n",
       "      <th>Date</th>\n",
       "      <th>Open</th>\n",
       "      <th>High</th>\n",
       "      <th>Low</th>\n",
       "      <th>Close</th>\n",
       "      <th>Adj Close</th>\n",
       "      <th>Volume</th>\n",
       "    </tr>\n",
       "  </thead>\n",
       "  <tbody>\n",
       "  </tbody>\n",
       "</table>\n",
       "</div>"
      ],
      "text/plain": [
       "Empty DataFrame\n",
       "Columns: [Date, Open, High, Low, Close, Adj Close, Volume]\n",
       "Index: []"
      ]
     },
     "execution_count": 149,
     "metadata": {},
     "output_type": "execute_result"
    }
   ],
   "source": [
    "data_training = df[df['Date']<'2019-01-01'].copy()\n",
    "data_training"
   ]
  },
  {
   "cell_type": "code",
   "execution_count": 150,
   "id": "f6cbf9dd-60b1-4cac-972e-6f525c6ab423",
   "metadata": {},
   "outputs": [
    {
     "data": {
      "text/html": [
       "<div>\n",
       "<style scoped>\n",
       "    .dataframe tbody tr th:only-of-type {\n",
       "        vertical-align: middle;\n",
       "    }\n",
       "\n",
       "    .dataframe tbody tr th {\n",
       "        vertical-align: top;\n",
       "    }\n",
       "\n",
       "    .dataframe thead th {\n",
       "        text-align: right;\n",
       "    }\n",
       "</style>\n",
       "<table border=\"1\" class=\"dataframe\">\n",
       "  <thead>\n",
       "    <tr style=\"text-align: right;\">\n",
       "      <th></th>\n",
       "      <th>Date</th>\n",
       "      <th>Open</th>\n",
       "      <th>High</th>\n",
       "      <th>Low</th>\n",
       "      <th>Close</th>\n",
       "      <th>Adj Close</th>\n",
       "      <th>Volume</th>\n",
       "    </tr>\n",
       "  </thead>\n",
       "  <tbody>\n",
       "    <tr>\n",
       "      <th>0</th>\n",
       "      <td>2022-10-03</td>\n",
       "      <td>97.220001</td>\n",
       "      <td>99.970001</td>\n",
       "      <td>97.019997</td>\n",
       "      <td>99.300003</td>\n",
       "      <td>99.300003</td>\n",
       "      <td>24840000</td>\n",
       "    </tr>\n",
       "    <tr>\n",
       "      <th>1</th>\n",
       "      <td>2022-10-04</td>\n",
       "      <td>101.040001</td>\n",
       "      <td>102.720001</td>\n",
       "      <td>101.040001</td>\n",
       "      <td>102.410004</td>\n",
       "      <td>102.410004</td>\n",
       "      <td>22580900</td>\n",
       "    </tr>\n",
       "    <tr>\n",
       "      <th>2</th>\n",
       "      <td>2022-10-05</td>\n",
       "      <td>100.690002</td>\n",
       "      <td>102.739998</td>\n",
       "      <td>99.739998</td>\n",
       "      <td>102.220001</td>\n",
       "      <td>102.220001</td>\n",
       "      <td>18475500</td>\n",
       "    </tr>\n",
       "    <tr>\n",
       "      <th>3</th>\n",
       "      <td>2022-10-06</td>\n",
       "      <td>101.500000</td>\n",
       "      <td>103.730003</td>\n",
       "      <td>101.500000</td>\n",
       "      <td>102.239998</td>\n",
       "      <td>102.239998</td>\n",
       "      <td>17156200</td>\n",
       "    </tr>\n",
       "    <tr>\n",
       "      <th>4</th>\n",
       "      <td>2022-10-07</td>\n",
       "      <td>100.650002</td>\n",
       "      <td>101.419998</td>\n",
       "      <td>99.209999</td>\n",
       "      <td>99.570000</td>\n",
       "      <td>99.570000</td>\n",
       "      <td>24249900</td>\n",
       "    </tr>\n",
       "    <tr>\n",
       "      <th>...</th>\n",
       "      <td>...</td>\n",
       "      <td>...</td>\n",
       "      <td>...</td>\n",
       "      <td>...</td>\n",
       "      <td>...</td>\n",
       "      <td>...</td>\n",
       "      <td>...</td>\n",
       "    </tr>\n",
       "    <tr>\n",
       "      <th>246</th>\n",
       "      <td>2023-09-26</td>\n",
       "      <td>130.914001</td>\n",
       "      <td>131.404999</td>\n",
       "      <td>128.190002</td>\n",
       "      <td>129.449997</td>\n",
       "      <td>129.449997</td>\n",
       "      <td>20378800</td>\n",
       "    </tr>\n",
       "    <tr>\n",
       "      <th>247</th>\n",
       "      <td>2023-09-27</td>\n",
       "      <td>129.440002</td>\n",
       "      <td>131.720001</td>\n",
       "      <td>129.380005</td>\n",
       "      <td>131.460007</td>\n",
       "      <td>131.460007</td>\n",
       "      <td>18764200</td>\n",
       "    </tr>\n",
       "    <tr>\n",
       "      <th>248</th>\n",
       "      <td>2023-09-28</td>\n",
       "      <td>130.690002</td>\n",
       "      <td>134.179993</td>\n",
       "      <td>130.690002</td>\n",
       "      <td>133.130005</td>\n",
       "      <td>133.130005</td>\n",
       "      <td>18201400</td>\n",
       "    </tr>\n",
       "    <tr>\n",
       "      <th>249</th>\n",
       "      <td>2023-09-29</td>\n",
       "      <td>134.080002</td>\n",
       "      <td>134.889999</td>\n",
       "      <td>131.320007</td>\n",
       "      <td>131.850006</td>\n",
       "      <td>131.850006</td>\n",
       "      <td>23224200</td>\n",
       "    </tr>\n",
       "    <tr>\n",
       "      <th>250</th>\n",
       "      <td>2023-10-02</td>\n",
       "      <td>132.154999</td>\n",
       "      <td>135.360001</td>\n",
       "      <td>132.065002</td>\n",
       "      <td>135.169998</td>\n",
       "      <td>135.169998</td>\n",
       "      <td>19189000</td>\n",
       "    </tr>\n",
       "  </tbody>\n",
       "</table>\n",
       "<p>251 rows × 7 columns</p>\n",
       "</div>"
      ],
      "text/plain": [
       "           Date        Open        High         Low       Close   Adj Close  \\\n",
       "0    2022-10-03   97.220001   99.970001   97.019997   99.300003   99.300003   \n",
       "1    2022-10-04  101.040001  102.720001  101.040001  102.410004  102.410004   \n",
       "2    2022-10-05  100.690002  102.739998   99.739998  102.220001  102.220001   \n",
       "3    2022-10-06  101.500000  103.730003  101.500000  102.239998  102.239998   \n",
       "4    2022-10-07  100.650002  101.419998   99.209999   99.570000   99.570000   \n",
       "..          ...         ...         ...         ...         ...         ...   \n",
       "246  2023-09-26  130.914001  131.404999  128.190002  129.449997  129.449997   \n",
       "247  2023-09-27  129.440002  131.720001  129.380005  131.460007  131.460007   \n",
       "248  2023-09-28  130.690002  134.179993  130.690002  133.130005  133.130005   \n",
       "249  2023-09-29  134.080002  134.889999  131.320007  131.850006  131.850006   \n",
       "250  2023-10-02  132.154999  135.360001  132.065002  135.169998  135.169998   \n",
       "\n",
       "       Volume  \n",
       "0    24840000  \n",
       "1    22580900  \n",
       "2    18475500  \n",
       "3    17156200  \n",
       "4    24249900  \n",
       "..        ...  \n",
       "246  20378800  \n",
       "247  18764200  \n",
       "248  18201400  \n",
       "249  23224200  \n",
       "250  19189000  \n",
       "\n",
       "[251 rows x 7 columns]"
      ]
     },
     "execution_count": 150,
     "metadata": {},
     "output_type": "execute_result"
    }
   ],
   "source": [
    "data_test = df[df['Date']>='2019-01-01'].copy()\n",
    "data_test"
   ]
  },
  {
   "cell_type": "code",
   "execution_count": 151,
   "id": "2caf373d-db0f-4c90-a0a9-3d2d4c896dae",
   "metadata": {},
   "outputs": [
    {
     "data": {
      "text/plain": [
       "(251, 7)"
      ]
     },
     "execution_count": 151,
     "metadata": {},
     "output_type": "execute_result"
    }
   ],
   "source": [
    "df.shape"
   ]
  },
  {
   "cell_type": "code",
   "execution_count": 152,
   "id": "224fbbf8-603a-4dbd-8ab3-908087d35f2d",
   "metadata": {},
   "outputs": [],
   "source": [
    "#Removing duplicate values\n",
    "df = df.loc[~df.index.duplicated(keep='first')]"
   ]
  },
  {
   "cell_type": "code",
   "execution_count": 153,
   "id": "294715a0-db35-479f-9b43-b0a56fb59620",
   "metadata": {},
   "outputs": [
    {
     "name": "stdout",
     "output_type": "stream",
     "text": [
      "Total no. of days present in dataset: 251\n",
      "Total no. of fields present in dataset: 7\n"
     ]
    }
   ],
   "source": [
    "print('Total no. of days present in dataset:',df.shape[0])\n",
    "print('Total no. of fields present in dataset:',df.shape[1])"
   ]
  },
  {
   "cell_type": "code",
   "execution_count": 154,
   "id": "32cf44e9-8dc4-4748-87b0-2777522840d8",
   "metadata": {},
   "outputs": [
    {
     "data": {
      "text/plain": [
       "(251, 7)"
      ]
     },
     "execution_count": 154,
     "metadata": {},
     "output_type": "execute_result"
    }
   ],
   "source": [
    "df.shape"
   ]
  },
  {
   "cell_type": "code",
   "execution_count": 155,
   "id": "0ba01b28-a47e-4e89-825c-b85ca09632bf",
   "metadata": {},
   "outputs": [
    {
     "data": {
      "text/html": [
       "<div>\n",
       "<style scoped>\n",
       "    .dataframe tbody tr th:only-of-type {\n",
       "        vertical-align: middle;\n",
       "    }\n",
       "\n",
       "    .dataframe tbody tr th {\n",
       "        vertical-align: top;\n",
       "    }\n",
       "\n",
       "    .dataframe thead th {\n",
       "        text-align: right;\n",
       "    }\n",
       "</style>\n",
       "<table border=\"1\" class=\"dataframe\">\n",
       "  <thead>\n",
       "    <tr style=\"text-align: right;\">\n",
       "      <th></th>\n",
       "      <th>Date</th>\n",
       "      <th>Open</th>\n",
       "      <th>High</th>\n",
       "      <th>Low</th>\n",
       "      <th>Close</th>\n",
       "      <th>Adj Close</th>\n",
       "      <th>Volume</th>\n",
       "    </tr>\n",
       "  </thead>\n",
       "  <tbody>\n",
       "    <tr>\n",
       "      <th>0</th>\n",
       "      <td>2022-10-03</td>\n",
       "      <td>97.220001</td>\n",
       "      <td>99.970001</td>\n",
       "      <td>97.019997</td>\n",
       "      <td>99.300003</td>\n",
       "      <td>99.300003</td>\n",
       "      <td>24840000</td>\n",
       "    </tr>\n",
       "    <tr>\n",
       "      <th>1</th>\n",
       "      <td>2022-10-04</td>\n",
       "      <td>101.040001</td>\n",
       "      <td>102.720001</td>\n",
       "      <td>101.040001</td>\n",
       "      <td>102.410004</td>\n",
       "      <td>102.410004</td>\n",
       "      <td>22580900</td>\n",
       "    </tr>\n",
       "    <tr>\n",
       "      <th>2</th>\n",
       "      <td>2022-10-05</td>\n",
       "      <td>100.690002</td>\n",
       "      <td>102.739998</td>\n",
       "      <td>99.739998</td>\n",
       "      <td>102.220001</td>\n",
       "      <td>102.220001</td>\n",
       "      <td>18475500</td>\n",
       "    </tr>\n",
       "    <tr>\n",
       "      <th>3</th>\n",
       "      <td>2022-10-06</td>\n",
       "      <td>101.500000</td>\n",
       "      <td>103.730003</td>\n",
       "      <td>101.500000</td>\n",
       "      <td>102.239998</td>\n",
       "      <td>102.239998</td>\n",
       "      <td>17156200</td>\n",
       "    </tr>\n",
       "    <tr>\n",
       "      <th>4</th>\n",
       "      <td>2022-10-07</td>\n",
       "      <td>100.650002</td>\n",
       "      <td>101.419998</td>\n",
       "      <td>99.209999</td>\n",
       "      <td>99.570000</td>\n",
       "      <td>99.570000</td>\n",
       "      <td>24249900</td>\n",
       "    </tr>\n",
       "  </tbody>\n",
       "</table>\n",
       "</div>"
      ],
      "text/plain": [
       "         Date        Open        High         Low       Close   Adj Close  \\\n",
       "0  2022-10-03   97.220001   99.970001   97.019997   99.300003   99.300003   \n",
       "1  2022-10-04  101.040001  102.720001  101.040001  102.410004  102.410004   \n",
       "2  2022-10-05  100.690002  102.739998   99.739998  102.220001  102.220001   \n",
       "3  2022-10-06  101.500000  103.730003  101.500000  102.239998  102.239998   \n",
       "4  2022-10-07  100.650002  101.419998   99.209999   99.570000   99.570000   \n",
       "\n",
       "     Volume  \n",
       "0  24840000  \n",
       "1  22580900  \n",
       "2  18475500  \n",
       "3  17156200  \n",
       "4  24249900  "
      ]
     },
     "execution_count": 155,
     "metadata": {},
     "output_type": "execute_result"
    }
   ],
   "source": [
    "df.head()"
   ]
  },
  {
   "cell_type": "code",
   "execution_count": 156,
   "id": "62038d4a-0570-4519-a56a-66fc4ff122ce",
   "metadata": {},
   "outputs": [
    {
     "data": {
      "text/html": [
       "<div>\n",
       "<style scoped>\n",
       "    .dataframe tbody tr th:only-of-type {\n",
       "        vertical-align: middle;\n",
       "    }\n",
       "\n",
       "    .dataframe tbody tr th {\n",
       "        vertical-align: top;\n",
       "    }\n",
       "\n",
       "    .dataframe thead th {\n",
       "        text-align: right;\n",
       "    }\n",
       "</style>\n",
       "<table border=\"1\" class=\"dataframe\">\n",
       "  <thead>\n",
       "    <tr style=\"text-align: right;\">\n",
       "      <th></th>\n",
       "      <th>Date</th>\n",
       "      <th>Open</th>\n",
       "      <th>High</th>\n",
       "      <th>Low</th>\n",
       "      <th>Close</th>\n",
       "      <th>Adj Close</th>\n",
       "      <th>Volume</th>\n",
       "    </tr>\n",
       "  </thead>\n",
       "  <tbody>\n",
       "    <tr>\n",
       "      <th>0</th>\n",
       "      <td>2022-10-03</td>\n",
       "      <td>97.220001</td>\n",
       "      <td>99.970001</td>\n",
       "      <td>97.019997</td>\n",
       "      <td>99.300003</td>\n",
       "      <td>99.300003</td>\n",
       "      <td>24840000</td>\n",
       "    </tr>\n",
       "    <tr>\n",
       "      <th>1</th>\n",
       "      <td>2022-10-04</td>\n",
       "      <td>101.040001</td>\n",
       "      <td>102.720001</td>\n",
       "      <td>101.040001</td>\n",
       "      <td>102.410004</td>\n",
       "      <td>102.410004</td>\n",
       "      <td>22580900</td>\n",
       "    </tr>\n",
       "    <tr>\n",
       "      <th>2</th>\n",
       "      <td>2022-10-05</td>\n",
       "      <td>100.690002</td>\n",
       "      <td>102.739998</td>\n",
       "      <td>99.739998</td>\n",
       "      <td>102.220001</td>\n",
       "      <td>102.220001</td>\n",
       "      <td>18475500</td>\n",
       "    </tr>\n",
       "    <tr>\n",
       "      <th>3</th>\n",
       "      <td>2022-10-06</td>\n",
       "      <td>101.500000</td>\n",
       "      <td>103.730003</td>\n",
       "      <td>101.500000</td>\n",
       "      <td>102.239998</td>\n",
       "      <td>102.239998</td>\n",
       "      <td>17156200</td>\n",
       "    </tr>\n",
       "    <tr>\n",
       "      <th>4</th>\n",
       "      <td>2022-10-07</td>\n",
       "      <td>100.650002</td>\n",
       "      <td>101.419998</td>\n",
       "      <td>99.209999</td>\n",
       "      <td>99.570000</td>\n",
       "      <td>99.570000</td>\n",
       "      <td>24249900</td>\n",
       "    </tr>\n",
       "    <tr>\n",
       "      <th>...</th>\n",
       "      <td>...</td>\n",
       "      <td>...</td>\n",
       "      <td>...</td>\n",
       "      <td>...</td>\n",
       "      <td>...</td>\n",
       "      <td>...</td>\n",
       "      <td>...</td>\n",
       "    </tr>\n",
       "    <tr>\n",
       "      <th>246</th>\n",
       "      <td>2023-09-26</td>\n",
       "      <td>130.914001</td>\n",
       "      <td>131.404999</td>\n",
       "      <td>128.190002</td>\n",
       "      <td>129.449997</td>\n",
       "      <td>129.449997</td>\n",
       "      <td>20378800</td>\n",
       "    </tr>\n",
       "    <tr>\n",
       "      <th>247</th>\n",
       "      <td>2023-09-27</td>\n",
       "      <td>129.440002</td>\n",
       "      <td>131.720001</td>\n",
       "      <td>129.380005</td>\n",
       "      <td>131.460007</td>\n",
       "      <td>131.460007</td>\n",
       "      <td>18764200</td>\n",
       "    </tr>\n",
       "    <tr>\n",
       "      <th>248</th>\n",
       "      <td>2023-09-28</td>\n",
       "      <td>130.690002</td>\n",
       "      <td>134.179993</td>\n",
       "      <td>130.690002</td>\n",
       "      <td>133.130005</td>\n",
       "      <td>133.130005</td>\n",
       "      <td>18201400</td>\n",
       "    </tr>\n",
       "    <tr>\n",
       "      <th>249</th>\n",
       "      <td>2023-09-29</td>\n",
       "      <td>134.080002</td>\n",
       "      <td>134.889999</td>\n",
       "      <td>131.320007</td>\n",
       "      <td>131.850006</td>\n",
       "      <td>131.850006</td>\n",
       "      <td>23224200</td>\n",
       "    </tr>\n",
       "    <tr>\n",
       "      <th>250</th>\n",
       "      <td>2023-10-02</td>\n",
       "      <td>132.154999</td>\n",
       "      <td>135.360001</td>\n",
       "      <td>132.065002</td>\n",
       "      <td>135.169998</td>\n",
       "      <td>135.169998</td>\n",
       "      <td>19189000</td>\n",
       "    </tr>\n",
       "  </tbody>\n",
       "</table>\n",
       "<p>251 rows × 7 columns</p>\n",
       "</div>"
      ],
      "text/plain": [
       "           Date        Open        High         Low       Close   Adj Close  \\\n",
       "0    2022-10-03   97.220001   99.970001   97.019997   99.300003   99.300003   \n",
       "1    2022-10-04  101.040001  102.720001  101.040001  102.410004  102.410004   \n",
       "2    2022-10-05  100.690002  102.739998   99.739998  102.220001  102.220001   \n",
       "3    2022-10-06  101.500000  103.730003  101.500000  102.239998  102.239998   \n",
       "4    2022-10-07  100.650002  101.419998   99.209999   99.570000   99.570000   \n",
       "..          ...         ...         ...         ...         ...         ...   \n",
       "246  2023-09-26  130.914001  131.404999  128.190002  129.449997  129.449997   \n",
       "247  2023-09-27  129.440002  131.720001  129.380005  131.460007  131.460007   \n",
       "248  2023-09-28  130.690002  134.179993  130.690002  133.130005  133.130005   \n",
       "249  2023-09-29  134.080002  134.889999  131.320007  131.850006  131.850006   \n",
       "250  2023-10-02  132.154999  135.360001  132.065002  135.169998  135.169998   \n",
       "\n",
       "       Volume  \n",
       "0    24840000  \n",
       "1    22580900  \n",
       "2    18475500  \n",
       "3    17156200  \n",
       "4    24249900  \n",
       "..        ...  \n",
       "246  20378800  \n",
       "247  18764200  \n",
       "248  18201400  \n",
       "249  23224200  \n",
       "250  19189000  \n",
       "\n",
       "[251 rows x 7 columns]"
      ]
     },
     "execution_count": 156,
     "metadata": {},
     "output_type": "execute_result"
    }
   ],
   "source": [
    "df"
   ]
  },
  {
   "cell_type": "code",
   "execution_count": 157,
   "id": "842b7cca-1e44-46dc-ac89-589ca64c13b1",
   "metadata": {},
   "outputs": [
    {
     "name": "stdout",
     "output_type": "stream",
     "text": [
      "<class 'pandas.core.frame.DataFrame'>\n",
      "Index: 251 entries, 0 to 250\n",
      "Data columns (total 7 columns):\n",
      " #   Column     Non-Null Count  Dtype  \n",
      "---  ------     --------------  -----  \n",
      " 0   Date       251 non-null    object \n",
      " 1   Open       251 non-null    float64\n",
      " 2   High       251 non-null    float64\n",
      " 3   Low        251 non-null    float64\n",
      " 4   Close      251 non-null    float64\n",
      " 5   Adj Close  251 non-null    float64\n",
      " 6   Volume     251 non-null    int64  \n",
      "dtypes: float64(5), int64(1), object(1)\n",
      "memory usage: 15.7+ KB\n"
     ]
    }
   ],
   "source": [
    "df.info()"
   ]
  },
  {
   "cell_type": "code",
   "execution_count": 158,
   "id": "ae9d818c-187c-47fe-95f0-1f0b093cdb61",
   "metadata": {},
   "outputs": [
    {
     "data": {
      "text/html": [
       "<div>\n",
       "<style scoped>\n",
       "    .dataframe tbody tr th:only-of-type {\n",
       "        vertical-align: middle;\n",
       "    }\n",
       "\n",
       "    .dataframe tbody tr th {\n",
       "        vertical-align: top;\n",
       "    }\n",
       "\n",
       "    .dataframe thead th {\n",
       "        text-align: right;\n",
       "    }\n",
       "</style>\n",
       "<table border=\"1\" class=\"dataframe\">\n",
       "  <thead>\n",
       "    <tr style=\"text-align: right;\">\n",
       "      <th></th>\n",
       "      <th>Date</th>\n",
       "      <th>Open</th>\n",
       "      <th>High</th>\n",
       "      <th>Low</th>\n",
       "      <th>Close</th>\n",
       "      <th>Adj Close</th>\n",
       "      <th>Volume</th>\n",
       "    </tr>\n",
       "  </thead>\n",
       "  <tbody>\n",
       "    <tr>\n",
       "      <th>count</th>\n",
       "      <td>251</td>\n",
       "      <td>251.000000</td>\n",
       "      <td>251.000000</td>\n",
       "      <td>251.000000</td>\n",
       "      <td>251.000000</td>\n",
       "      <td>251.000000</td>\n",
       "      <td>2.510000e+02</td>\n",
       "    </tr>\n",
       "    <tr>\n",
       "      <th>unique</th>\n",
       "      <td>251</td>\n",
       "      <td>NaN</td>\n",
       "      <td>NaN</td>\n",
       "      <td>NaN</td>\n",
       "      <td>NaN</td>\n",
       "      <td>NaN</td>\n",
       "      <td>NaN</td>\n",
       "    </tr>\n",
       "    <tr>\n",
       "      <th>top</th>\n",
       "      <td>2022-10-03</td>\n",
       "      <td>NaN</td>\n",
       "      <td>NaN</td>\n",
       "      <td>NaN</td>\n",
       "      <td>NaN</td>\n",
       "      <td>NaN</td>\n",
       "      <td>NaN</td>\n",
       "    </tr>\n",
       "    <tr>\n",
       "      <th>freq</th>\n",
       "      <td>1</td>\n",
       "      <td>NaN</td>\n",
       "      <td>NaN</td>\n",
       "      <td>NaN</td>\n",
       "      <td>NaN</td>\n",
       "      <td>NaN</td>\n",
       "      <td>NaN</td>\n",
       "    </tr>\n",
       "    <tr>\n",
       "      <th>mean</th>\n",
       "      <td>NaN</td>\n",
       "      <td>109.362311</td>\n",
       "      <td>110.875104</td>\n",
       "      <td>108.213757</td>\n",
       "      <td>109.571574</td>\n",
       "      <td>109.571574</td>\n",
       "      <td>2.666822e+07</td>\n",
       "    </tr>\n",
       "    <tr>\n",
       "      <th>std</th>\n",
       "      <td>NaN</td>\n",
       "      <td>15.791147</td>\n",
       "      <td>15.829224</td>\n",
       "      <td>15.795351</td>\n",
       "      <td>15.806917</td>\n",
       "      <td>15.806917</td>\n",
       "      <td>1.108759e+07</td>\n",
       "    </tr>\n",
       "    <tr>\n",
       "      <th>min</th>\n",
       "      <td>NaN</td>\n",
       "      <td>85.510002</td>\n",
       "      <td>86.550003</td>\n",
       "      <td>83.449997</td>\n",
       "      <td>83.489998</td>\n",
       "      <td>83.489998</td>\n",
       "      <td>8.567800e+06</td>\n",
       "    </tr>\n",
       "    <tr>\n",
       "      <th>25%</th>\n",
       "      <td>NaN</td>\n",
       "      <td>95.759998</td>\n",
       "      <td>97.349998</td>\n",
       "      <td>94.470001</td>\n",
       "      <td>95.840000</td>\n",
       "      <td>95.840000</td>\n",
       "      <td>2.009725e+07</td>\n",
       "    </tr>\n",
       "    <tr>\n",
       "      <th>50%</th>\n",
       "      <td>NaN</td>\n",
       "      <td>105.230003</td>\n",
       "      <td>106.540001</td>\n",
       "      <td>104.209999</td>\n",
       "      <td>105.120003</td>\n",
       "      <td>105.120003</td>\n",
       "      <td>2.365610e+07</td>\n",
       "    </tr>\n",
       "    <tr>\n",
       "      <th>75%</th>\n",
       "      <td>NaN</td>\n",
       "      <td>123.972499</td>\n",
       "      <td>125.444999</td>\n",
       "      <td>122.895001</td>\n",
       "      <td>124.215000</td>\n",
       "      <td>124.215000</td>\n",
       "      <td>3.004110e+07</td>\n",
       "    </tr>\n",
       "    <tr>\n",
       "      <th>max</th>\n",
       "      <td>NaN</td>\n",
       "      <td>138.830002</td>\n",
       "      <td>139.929993</td>\n",
       "      <td>137.630005</td>\n",
       "      <td>138.990005</td>\n",
       "      <td>138.990005</td>\n",
       "      <td>9.779860e+07</td>\n",
       "    </tr>\n",
       "  </tbody>\n",
       "</table>\n",
       "</div>"
      ],
      "text/plain": [
       "              Date        Open        High         Low       Close  \\\n",
       "count          251  251.000000  251.000000  251.000000  251.000000   \n",
       "unique         251         NaN         NaN         NaN         NaN   \n",
       "top     2022-10-03         NaN         NaN         NaN         NaN   \n",
       "freq             1         NaN         NaN         NaN         NaN   \n",
       "mean           NaN  109.362311  110.875104  108.213757  109.571574   \n",
       "std            NaN   15.791147   15.829224   15.795351   15.806917   \n",
       "min            NaN   85.510002   86.550003   83.449997   83.489998   \n",
       "25%            NaN   95.759998   97.349998   94.470001   95.840000   \n",
       "50%            NaN  105.230003  106.540001  104.209999  105.120003   \n",
       "75%            NaN  123.972499  125.444999  122.895001  124.215000   \n",
       "max            NaN  138.830002  139.929993  137.630005  138.990005   \n",
       "\n",
       "         Adj Close        Volume  \n",
       "count   251.000000  2.510000e+02  \n",
       "unique         NaN           NaN  \n",
       "top            NaN           NaN  \n",
       "freq           NaN           NaN  \n",
       "mean    109.571574  2.666822e+07  \n",
       "std      15.806917  1.108759e+07  \n",
       "min      83.489998  8.567800e+06  \n",
       "25%      95.840000  2.009725e+07  \n",
       "50%     105.120003  2.365610e+07  \n",
       "75%     124.215000  3.004110e+07  \n",
       "max     138.990005  9.779860e+07  "
      ]
     },
     "execution_count": 158,
     "metadata": {},
     "output_type": "execute_result"
    }
   ],
   "source": [
    "df.describe(include=\"all\")"
   ]
  },
  {
   "cell_type": "code",
   "execution_count": 159,
   "id": "acbf9637-d618-493f-a8fa-c92ec1e02b71",
   "metadata": {},
   "outputs": [
    {
     "name": "stdout",
     "output_type": "stream",
     "text": [
      "Null Values: 0\n"
     ]
    }
   ],
   "source": [
    "#checking null values\n",
    "print('Null Values:',df.isnull().values.sum())"
   ]
  },
  {
   "cell_type": "code",
   "execution_count": 161,
   "id": "16b0a0c0-0519-4642-827f-8ce8e86dfada",
   "metadata": {},
   "outputs": [
    {
     "data": {
      "text/html": [
       "<div>\n",
       "<style scoped>\n",
       "    .dataframe tbody tr th:only-of-type {\n",
       "        vertical-align: middle;\n",
       "    }\n",
       "\n",
       "    .dataframe tbody tr th {\n",
       "        vertical-align: top;\n",
       "    }\n",
       "\n",
       "    .dataframe thead th {\n",
       "        text-align: right;\n",
       "    }\n",
       "</style>\n",
       "<table border=\"1\" class=\"dataframe\">\n",
       "  <thead>\n",
       "    <tr style=\"text-align: right;\">\n",
       "      <th></th>\n",
       "      <th>Open</th>\n",
       "      <th>High</th>\n",
       "      <th>Low</th>\n",
       "      <th>Close</th>\n",
       "      <th>Volume</th>\n",
       "    </tr>\n",
       "  </thead>\n",
       "  <tbody>\n",
       "    <tr>\n",
       "      <th>0</th>\n",
       "      <td>97.220001</td>\n",
       "      <td>99.970001</td>\n",
       "      <td>97.019997</td>\n",
       "      <td>99.300003</td>\n",
       "      <td>24840000</td>\n",
       "    </tr>\n",
       "    <tr>\n",
       "      <th>1</th>\n",
       "      <td>101.040001</td>\n",
       "      <td>102.720001</td>\n",
       "      <td>101.040001</td>\n",
       "      <td>102.410004</td>\n",
       "      <td>22580900</td>\n",
       "    </tr>\n",
       "    <tr>\n",
       "      <th>2</th>\n",
       "      <td>100.690002</td>\n",
       "      <td>102.739998</td>\n",
       "      <td>99.739998</td>\n",
       "      <td>102.220001</td>\n",
       "      <td>18475500</td>\n",
       "    </tr>\n",
       "    <tr>\n",
       "      <th>3</th>\n",
       "      <td>101.500000</td>\n",
       "      <td>103.730003</td>\n",
       "      <td>101.500000</td>\n",
       "      <td>102.239998</td>\n",
       "      <td>17156200</td>\n",
       "    </tr>\n",
       "    <tr>\n",
       "      <th>4</th>\n",
       "      <td>100.650002</td>\n",
       "      <td>101.419998</td>\n",
       "      <td>99.209999</td>\n",
       "      <td>99.570000</td>\n",
       "      <td>24249900</td>\n",
       "    </tr>\n",
       "  </tbody>\n",
       "</table>\n",
       "</div>"
      ],
      "text/plain": [
       "         Open        High         Low       Close    Volume\n",
       "0   97.220001   99.970001   97.019997   99.300003  24840000\n",
       "1  101.040001  102.720001  101.040001  102.410004  22580900\n",
       "2  100.690002  102.739998   99.739998  102.220001  18475500\n",
       "3  101.500000  103.730003  101.500000  102.239998  17156200\n",
       "4  100.650002  101.419998   99.209999   99.570000  24249900"
      ]
     },
     "execution_count": 161,
     "metadata": {},
     "output_type": "execute_result"
    }
   ],
   "source": [
    "training_data = df.drop(['Date', 'Adj Close'], axis = 1)\n",
    "training_data.head()"
   ]
  },
  {
   "cell_type": "code",
   "execution_count": 162,
   "id": "327fae45-fa54-4a4c-bc62-fa1c425ed134",
   "metadata": {},
   "outputs": [
    {
     "data": {
      "text/plain": [
       "array([[0.21961739, 0.25140503, 0.25046139, 0.28486492, 0.1823608 ],\n",
       "       [0.2912603 , 0.30292246, 0.32465857, 0.34090097, 0.15704331],\n",
       "       [0.28469617, 0.30329708, 0.30066443, 0.33747749, 0.11103453],\n",
       "       ...,\n",
       "       [0.84733683, 0.89228173, 0.87190842, 0.89441443, 0.10796272],\n",
       "       [0.91091523, 0.90558271, 0.88353641, 0.87135139, 0.1642527 ],\n",
       "       [0.8748124 , 0.91438754, 0.89728678, 0.93117105, 0.11903065]])"
      ]
     },
     "execution_count": 162,
     "metadata": {},
     "output_type": "execute_result"
    }
   ],
   "source": [
    "scaler = MinMaxScaler()\n",
    "training_data = scaler.fit_transform(training_data)\n",
    "training_data"
   ]
  },
  {
   "cell_type": "code",
   "execution_count": 163,
   "id": "5c9dab7a-df12-486a-b8d6-22a5f267b923",
   "metadata": {},
   "outputs": [],
   "source": [
    "x_train = []\n",
    "y_train = []"
   ]
  },
  {
   "cell_type": "code",
   "execution_count": 164,
   "id": "aee34400-fe0a-4d12-9a6f-731c3997ef86",
   "metadata": {},
   "outputs": [
    {
     "data": {
      "text/plain": [
       "251"
      ]
     },
     "execution_count": 164,
     "metadata": {},
     "output_type": "execute_result"
    }
   ],
   "source": [
    "training_data.shape[0]"
   ]
  },
  {
   "cell_type": "code",
   "execution_count": 165,
   "id": "3df37cb1-eb8b-4435-ab08-720e05b8ce1d",
   "metadata": {},
   "outputs": [],
   "source": [
    "for i in range(60, training_data.shape[0]):\n",
    "    x_train.append(training_data[i-60:i])\n",
    "    y_train.append(training_data[i, 0])"
   ]
  },
  {
   "cell_type": "code",
   "execution_count": 166,
   "id": "eb4adb8e-643c-4745-9795-207075ae181d",
   "metadata": {},
   "outputs": [],
   "source": [
    "x_train , y_train = np.array(x_train), np.array(y_train)"
   ]
  },
  {
   "cell_type": "code",
   "execution_count": 167,
   "id": "bcf29f4c-ba09-4d66-8f33-009208827d27",
   "metadata": {},
   "outputs": [
    {
     "data": {
      "text/plain": [
       "(191, 60, 5)"
      ]
     },
     "execution_count": 167,
     "metadata": {},
     "output_type": "execute_result"
    }
   ],
   "source": [
    "#rows,columns,dimensions\n",
    "x_train.shape"
   ]
  },
  {
   "cell_type": "code",
   "execution_count": 168,
   "id": "bbea2e09-eb48-4a7a-bea0-3655c11805da",
   "metadata": {},
   "outputs": [
    {
     "data": {
      "text/plain": [
       "(191,)"
      ]
     },
     "execution_count": 168,
     "metadata": {},
     "output_type": "execute_result"
    }
   ],
   "source": [
    "y_train.shape"
   ]
  },
  {
   "cell_type": "markdown",
   "id": "ce352090-64c0-4d40-a09b-5c1c24fe5919",
   "metadata": {},
   "source": [
    "## BUILDING LSTM MODEL"
   ]
  },
  {
   "cell_type": "code",
   "execution_count": 169,
   "id": "acbee62a-3564-455d-af83-74bcf5e8f755",
   "metadata": {},
   "outputs": [],
   "source": [
    "from tensorflow.keras import Sequential\n",
    "from tensorflow.keras.layers import Dense, LSTM, Dropout, InputLayer"
   ]
  },
  {
   "cell_type": "code",
   "execution_count": 174,
   "id": "ebf8ffab-8d26-47a3-942e-494150399192",
   "metadata": {},
   "outputs": [],
   "source": [
    "regressior = Sequential()\n",
    "\n",
    "\n",
    "regressior.add(LSTM(units = 50, activation = 'relu', return_sequences = True, input_shape = (x_train.shape[1], 5)))\n",
    "regressior.add(Dropout(0.2))\n",
    "\n",
    "regressior.add(LSTM(units = 60, activation = 'relu', return_sequences = True))\n",
    "regressior.add(Dropout(0.3))\n",
    "\n",
    "regressior.add(LSTM(units = 80, activation = 'relu', return_sequences = True))\n",
    "regressior.add(Dropout(0.4))\n",
    "\n",
    "regressior.add(LSTM(units = 120, activation = 'relu'))\n",
    "regressior.add(Dropout(0.5))\n",
    "\n",
    "regressior.add(Dense(units = 1))"
   ]
  },
  {
   "cell_type": "code",
   "execution_count": 175,
   "id": "12a0c96b-fac9-4d40-9875-8fe15f71e265",
   "metadata": {},
   "outputs": [
    {
     "name": "stdout",
     "output_type": "stream",
     "text": [
      "Model: \"sequential_10\"\n",
      "_________________________________________________________________\n",
      " Layer (type)                Output Shape              Param #   \n",
      "=================================================================\n",
      " lstm_21 (LSTM)              (None, 60, 50)            11200     \n",
      "                                                                 \n",
      " dropout_19 (Dropout)        (None, 60, 50)            0         \n",
      "                                                                 \n",
      " lstm_22 (LSTM)              (None, 60, 60)            26640     \n",
      "                                                                 \n",
      " dropout_20 (Dropout)        (None, 60, 60)            0         \n",
      "                                                                 \n",
      " lstm_23 (LSTM)              (None, 60, 80)            45120     \n",
      "                                                                 \n",
      " dropout_21 (Dropout)        (None, 60, 80)            0         \n",
      "                                                                 \n",
      " lstm_24 (LSTM)              (None, 120)               96480     \n",
      "                                                                 \n",
      " dropout_22 (Dropout)        (None, 120)               0         \n",
      "                                                                 \n",
      " dense_4 (Dense)             (None, 1)                 121       \n",
      "                                                                 \n",
      "=================================================================\n",
      "Total params: 179561 (701.41 KB)\n",
      "Trainable params: 179561 (701.41 KB)\n",
      "Non-trainable params: 0 (0.00 Byte)\n",
      "_________________________________________________________________\n"
     ]
    }
   ],
   "source": [
    "regressior.summary()"
   ]
  },
  {
   "cell_type": "code",
   "execution_count": 176,
   "id": "ce561392-f178-4801-bd91-b6295b0f6fbc",
   "metadata": {},
   "outputs": [],
   "source": [
    "regressior.compile(optimizer='adam', loss = 'mean_squared_error')"
   ]
  },
  {
   "cell_type": "code",
   "execution_count": 177,
   "id": "47808a4d-af4d-4644-81b2-7a1e87dffc6f",
   "metadata": {},
   "outputs": [
    {
     "name": "stdout",
     "output_type": "stream",
     "text": [
      "Epoch 1/10\n",
      "6/6 [==============================] - 14s 260ms/step - loss: 0.2975\n",
      "Epoch 2/10\n",
      "6/6 [==============================] - 2s 261ms/step - loss: 0.0649\n",
      "Epoch 3/10\n",
      "6/6 [==============================] - 2s 270ms/step - loss: 0.0451\n",
      "Epoch 4/10\n",
      "6/6 [==============================] - 2s 270ms/step - loss: 0.0363\n",
      "Epoch 5/10\n",
      "6/6 [==============================] - 2s 264ms/step - loss: 0.0276\n",
      "Epoch 6/10\n",
      "6/6 [==============================] - 2s 268ms/step - loss: 0.0268\n",
      "Epoch 7/10\n",
      "6/6 [==============================] - 2s 255ms/step - loss: 0.0267\n",
      "Epoch 8/10\n",
      "6/6 [==============================] - 2s 258ms/step - loss: 0.0263\n",
      "Epoch 9/10\n",
      "6/6 [==============================] - 2s 259ms/step - loss: 0.0258\n",
      "Epoch 10/10\n",
      "6/6 [==============================] - 2s 256ms/step - loss: 0.0213\n"
     ]
    },
    {
     "data": {
      "text/plain": [
       "<keras.src.callbacks.History at 0x1b140b2df10>"
      ]
     },
     "execution_count": 177,
     "metadata": {},
     "output_type": "execute_result"
    }
   ],
   "source": [
    "regressior.fit(x_train, y_train, epochs=10, batch_size=32)"
   ]
  },
  {
   "cell_type": "markdown",
   "id": "d358b67c-977d-4805-ad18-576dd74a4c59",
   "metadata": {},
   "source": [
    "## PREPARING TEST DATASET"
   ]
  },
  {
   "cell_type": "code",
   "execution_count": 178,
   "id": "7f701f01-255c-449f-b61c-6c990d6f0e2c",
   "metadata": {},
   "outputs": [
    {
     "data": {
      "text/html": [
       "<div>\n",
       "<style scoped>\n",
       "    .dataframe tbody tr th:only-of-type {\n",
       "        vertical-align: middle;\n",
       "    }\n",
       "\n",
       "    .dataframe tbody tr th {\n",
       "        vertical-align: top;\n",
       "    }\n",
       "\n",
       "    .dataframe thead th {\n",
       "        text-align: right;\n",
       "    }\n",
       "</style>\n",
       "<table border=\"1\" class=\"dataframe\">\n",
       "  <thead>\n",
       "    <tr style=\"text-align: right;\">\n",
       "      <th></th>\n",
       "      <th>Date</th>\n",
       "      <th>Open</th>\n",
       "      <th>High</th>\n",
       "      <th>Low</th>\n",
       "      <th>Close</th>\n",
       "      <th>Adj Close</th>\n",
       "      <th>Volume</th>\n",
       "    </tr>\n",
       "  </thead>\n",
       "  <tbody>\n",
       "    <tr>\n",
       "      <th>0</th>\n",
       "      <td>2022-10-03</td>\n",
       "      <td>97.220001</td>\n",
       "      <td>99.970001</td>\n",
       "      <td>97.019997</td>\n",
       "      <td>99.300003</td>\n",
       "      <td>99.300003</td>\n",
       "      <td>24840000</td>\n",
       "    </tr>\n",
       "    <tr>\n",
       "      <th>1</th>\n",
       "      <td>2022-10-04</td>\n",
       "      <td>101.040001</td>\n",
       "      <td>102.720001</td>\n",
       "      <td>101.040001</td>\n",
       "      <td>102.410004</td>\n",
       "      <td>102.410004</td>\n",
       "      <td>22580900</td>\n",
       "    </tr>\n",
       "    <tr>\n",
       "      <th>2</th>\n",
       "      <td>2022-10-05</td>\n",
       "      <td>100.690002</td>\n",
       "      <td>102.739998</td>\n",
       "      <td>99.739998</td>\n",
       "      <td>102.220001</td>\n",
       "      <td>102.220001</td>\n",
       "      <td>18475500</td>\n",
       "    </tr>\n",
       "    <tr>\n",
       "      <th>3</th>\n",
       "      <td>2022-10-06</td>\n",
       "      <td>101.500000</td>\n",
       "      <td>103.730003</td>\n",
       "      <td>101.500000</td>\n",
       "      <td>102.239998</td>\n",
       "      <td>102.239998</td>\n",
       "      <td>17156200</td>\n",
       "    </tr>\n",
       "    <tr>\n",
       "      <th>4</th>\n",
       "      <td>2022-10-07</td>\n",
       "      <td>100.650002</td>\n",
       "      <td>101.419998</td>\n",
       "      <td>99.209999</td>\n",
       "      <td>99.570000</td>\n",
       "      <td>99.570000</td>\n",
       "      <td>24249900</td>\n",
       "    </tr>\n",
       "  </tbody>\n",
       "</table>\n",
       "</div>"
      ],
      "text/plain": [
       "         Date        Open        High         Low       Close   Adj Close  \\\n",
       "0  2022-10-03   97.220001   99.970001   97.019997   99.300003   99.300003   \n",
       "1  2022-10-04  101.040001  102.720001  101.040001  102.410004  102.410004   \n",
       "2  2022-10-05  100.690002  102.739998   99.739998  102.220001  102.220001   \n",
       "3  2022-10-06  101.500000  103.730003  101.500000  102.239998  102.239998   \n",
       "4  2022-10-07  100.650002  101.419998   99.209999   99.570000   99.570000   \n",
       "\n",
       "     Volume  \n",
       "0  24840000  \n",
       "1  22580900  \n",
       "2  18475500  \n",
       "3  17156200  \n",
       "4  24249900  "
      ]
     },
     "execution_count": 178,
     "metadata": {},
     "output_type": "execute_result"
    }
   ],
   "source": [
    "data_test.head()"
   ]
  },
  {
   "cell_type": "code",
   "execution_count": 179,
   "id": "e64e1f21-b0ad-4aa5-ab74-ca477911cbe1",
   "metadata": {},
   "outputs": [
    {
     "data": {
      "text/html": [
       "<div>\n",
       "<style scoped>\n",
       "    .dataframe tbody tr th:only-of-type {\n",
       "        vertical-align: middle;\n",
       "    }\n",
       "\n",
       "    .dataframe tbody tr th {\n",
       "        vertical-align: top;\n",
       "    }\n",
       "\n",
       "    .dataframe thead th {\n",
       "        text-align: right;\n",
       "    }\n",
       "</style>\n",
       "<table border=\"1\" class=\"dataframe\">\n",
       "  <thead>\n",
       "    <tr style=\"text-align: right;\">\n",
       "      <th></th>\n",
       "      <th>Date</th>\n",
       "      <th>Open</th>\n",
       "      <th>High</th>\n",
       "      <th>Low</th>\n",
       "      <th>Close</th>\n",
       "      <th>Adj Close</th>\n",
       "      <th>Volume</th>\n",
       "    </tr>\n",
       "  </thead>\n",
       "  <tbody>\n",
       "  </tbody>\n",
       "</table>\n",
       "</div>"
      ],
      "text/plain": [
       "Empty DataFrame\n",
       "Columns: [Date, Open, High, Low, Close, Adj Close, Volume]\n",
       "Index: []"
      ]
     },
     "execution_count": 179,
     "metadata": {},
     "output_type": "execute_result"
    }
   ],
   "source": [
    "data_training.tail(60)"
   ]
  },
  {
   "cell_type": "code",
   "execution_count": 180,
   "id": "427e103d-3b37-4e7a-b95b-68d6ffc68dae",
   "metadata": {},
   "outputs": [],
   "source": [
    "past_60_days = data_training.tail(60)"
   ]
  },
  {
   "cell_type": "code",
   "execution_count": 182,
   "id": "703b5972-501d-4bba-920d-a2385785e5f7",
   "metadata": {},
   "outputs": [
    {
     "data": {
      "text/html": [
       "<div>\n",
       "<style scoped>\n",
       "    .dataframe tbody tr th:only-of-type {\n",
       "        vertical-align: middle;\n",
       "    }\n",
       "\n",
       "    .dataframe tbody tr th {\n",
       "        vertical-align: top;\n",
       "    }\n",
       "\n",
       "    .dataframe thead th {\n",
       "        text-align: right;\n",
       "    }\n",
       "</style>\n",
       "<table border=\"1\" class=\"dataframe\">\n",
       "  <thead>\n",
       "    <tr style=\"text-align: right;\">\n",
       "      <th></th>\n",
       "      <th>Open</th>\n",
       "      <th>High</th>\n",
       "      <th>Low</th>\n",
       "      <th>Close</th>\n",
       "      <th>Volume</th>\n",
       "    </tr>\n",
       "  </thead>\n",
       "  <tbody>\n",
       "    <tr>\n",
       "      <th>0</th>\n",
       "      <td>97.220001</td>\n",
       "      <td>99.970001</td>\n",
       "      <td>97.019997</td>\n",
       "      <td>99.300003</td>\n",
       "      <td>24840000</td>\n",
       "    </tr>\n",
       "    <tr>\n",
       "      <th>1</th>\n",
       "      <td>101.040001</td>\n",
       "      <td>102.720001</td>\n",
       "      <td>101.040001</td>\n",
       "      <td>102.410004</td>\n",
       "      <td>22580900</td>\n",
       "    </tr>\n",
       "    <tr>\n",
       "      <th>2</th>\n",
       "      <td>100.690002</td>\n",
       "      <td>102.739998</td>\n",
       "      <td>99.739998</td>\n",
       "      <td>102.220001</td>\n",
       "      <td>18475500</td>\n",
       "    </tr>\n",
       "    <tr>\n",
       "      <th>3</th>\n",
       "      <td>101.500000</td>\n",
       "      <td>103.730003</td>\n",
       "      <td>101.500000</td>\n",
       "      <td>102.239998</td>\n",
       "      <td>17156200</td>\n",
       "    </tr>\n",
       "    <tr>\n",
       "      <th>4</th>\n",
       "      <td>100.650002</td>\n",
       "      <td>101.419998</td>\n",
       "      <td>99.209999</td>\n",
       "      <td>99.570000</td>\n",
       "      <td>24249900</td>\n",
       "    </tr>\n",
       "  </tbody>\n",
       "</table>\n",
       "</div>"
      ],
      "text/plain": [
       "         Open        High         Low       Close    Volume\n",
       "0   97.220001   99.970001   97.019997   99.300003  24840000\n",
       "1  101.040001  102.720001  101.040001  102.410004  22580900\n",
       "2  100.690002  102.739998   99.739998  102.220001  18475500\n",
       "3  101.500000  103.730003  101.500000  102.239998  17156200\n",
       "4  100.650002  101.419998   99.209999   99.570000  24249900"
      ]
     },
     "execution_count": 182,
     "metadata": {},
     "output_type": "execute_result"
    }
   ],
   "source": [
    "import pandas as pd\n",
    "df = pd.concat([past_60_days, data_test], ignore_index = True)\n",
    "df = df.drop(['Date', 'Adj Close'], axis = 1)\n",
    "df.head()"
   ]
  },
  {
   "cell_type": "code",
   "execution_count": 183,
   "id": "341b2704-3192-4c77-aeba-80cbda9af5df",
   "metadata": {},
   "outputs": [
    {
     "data": {
      "text/plain": [
       "array([[0.21961739, 0.25140503, 0.25046139, 0.28486492, 0.1823608 ],\n",
       "       [0.2912603 , 0.30292246, 0.32465857, 0.34090097, 0.15704331],\n",
       "       [0.28469617, 0.30329708, 0.30066443, 0.33747749, 0.11103453],\n",
       "       ...,\n",
       "       [0.84733683, 0.89228173, 0.87190842, 0.89441443, 0.10796272],\n",
       "       [0.91091523, 0.90558271, 0.88353641, 0.87135139, 0.1642527 ],\n",
       "       [0.8748124 , 0.91438754, 0.89728678, 0.93117105, 0.11903065]])"
      ]
     },
     "execution_count": 183,
     "metadata": {},
     "output_type": "execute_result"
    }
   ],
   "source": [
    "inputs = scaler.transform(df)\n",
    "inputs"
   ]
  },
  {
   "cell_type": "code",
   "execution_count": 184,
   "id": "43dc3ab6-1d87-4796-9edc-824c5dcea05d",
   "metadata": {},
   "outputs": [],
   "source": [
    "x_test = []\n",
    "y_test = []\n",
    "\n",
    "for i in range(60, inputs.shape[0]):\n",
    "    x_test.append(inputs[i-60:i])\n",
    "    y_test.append(inputs[i, 0])"
   ]
  },
  {
   "cell_type": "code",
   "execution_count": 185,
   "id": "c8df7954-2b43-4e24-b59a-181c7bc9c710",
   "metadata": {},
   "outputs": [
    {
     "data": {
      "text/plain": [
       "((191, 60, 5), (191,))"
      ]
     },
     "execution_count": 185,
     "metadata": {},
     "output_type": "execute_result"
    }
   ],
   "source": [
    "x_test, y_test = np.array(x_test), np.array(y_test)\n",
    "x_test.shape, y_test.shape"
   ]
  },
  {
   "cell_type": "code",
   "execution_count": 186,
   "id": "668337a9-309f-4fa8-81d5-d0f6c5cf86b5",
   "metadata": {},
   "outputs": [
    {
     "name": "stdout",
     "output_type": "stream",
     "text": [
      "6/6 [==============================] - 2s 83ms/step\n"
     ]
    }
   ],
   "source": [
    "y_pred = regressior.predict(x_test)"
   ]
  },
  {
   "cell_type": "code",
   "execution_count": 187,
   "id": "a8de8cbf-8a97-4680-9af2-442d3c051e8a",
   "metadata": {},
   "outputs": [
    {
     "data": {
      "text/plain": [
       "array([1.87546887e-02, 1.87336116e-02, 1.84569925e-02, 1.80180157e-02,\n",
       "       1.12068927e-08])"
      ]
     },
     "execution_count": 187,
     "metadata": {},
     "output_type": "execute_result"
    }
   ],
   "source": [
    "scaler.scale_"
   ]
  },
  {
   "cell_type": "code",
   "execution_count": 189,
   "id": "0c44dc65-0350-43db-afa3-c3bd10ddeedf",
   "metadata": {},
   "outputs": [
    {
     "data": {
      "text/plain": [
       "53.319999920873116"
      ]
     },
     "execution_count": 189,
     "metadata": {},
     "output_type": "execute_result"
    }
   ],
   "source": [
    "scale = 1/1.87546887e-02\n",
    "scale"
   ]
  },
  {
   "cell_type": "code",
   "execution_count": 190,
   "id": "f827c83b-7407-4c51-8e0f-35e8726fd3d1",
   "metadata": {},
   "outputs": [],
   "source": [
    "y_pred = y_pred*scale\n",
    "y_test = y_test*scale"
   ]
  },
  {
   "cell_type": "code",
   "execution_count": 191,
   "id": "309bae9a-fa40-4e6d-8463-f5966c1dc06a",
   "metadata": {
    "scrolled": true
   },
   "outputs": [
    {
     "data": {
      "text/plain": [
       "array([[13.686212],\n",
       "       [13.391365],\n",
       "       [13.075833],\n",
       "       [12.747404],\n",
       "       [12.414974],\n",
       "       [12.086359],\n",
       "       [11.766061],\n",
       "       [11.457394],\n",
       "       [11.163772],\n",
       "       [10.888061],\n",
       "       [10.633193],\n",
       "       [10.403312],\n",
       "       [10.202367],\n",
       "       [10.033145],\n",
       "       [ 9.897481],\n",
       "       [ 9.795105],\n",
       "       [ 9.727857],\n",
       "       [ 9.701569],\n",
       "       [ 9.723241],\n",
       "       [ 9.792483],\n",
       "       [ 9.908464],\n",
       "       [10.070756],\n",
       "       [10.276862],\n",
       "       [10.522423],\n",
       "       [10.803728],\n",
       "       [11.122309],\n",
       "       [11.478851],\n",
       "       [11.87184 ],\n",
       "       [12.299011],\n",
       "       [12.744063],\n",
       "       [13.177891],\n",
       "       [13.574702],\n",
       "       [13.91383 ],\n",
       "       [14.181498],\n",
       "       [14.37296 ],\n",
       "       [14.49057 ],\n",
       "       [14.54004 ],\n",
       "       [14.527274],\n",
       "       [14.457587],\n",
       "       [14.336392],\n",
       "       [14.168411],\n",
       "       [13.959737],\n",
       "       [13.717005],\n",
       "       [13.447864],\n",
       "       [13.161731],\n",
       "       [12.869303],\n",
       "       [12.58286 ],\n",
       "       [12.313871],\n",
       "       [12.071705],\n",
       "       [11.861868],\n",
       "       [11.683571],\n",
       "       [11.532044],\n",
       "       [11.404003],\n",
       "       [11.297625],\n",
       "       [11.214199],\n",
       "       [11.156974],\n",
       "       [11.133454],\n",
       "       [11.15345 ],\n",
       "       [11.227778],\n",
       "       [11.366047],\n",
       "       [11.57489 ],\n",
       "       [11.854435],\n",
       "       [12.196351],\n",
       "       [12.588174],\n",
       "       [13.015895],\n",
       "       [13.46702 ],\n",
       "       [13.932345],\n",
       "       [14.406782],\n",
       "       [14.886986],\n",
       "       [15.370728],\n",
       "       [15.857303],\n",
       "       [16.345747],\n",
       "       [16.833897],\n",
       "       [17.31999 ],\n",
       "       [17.80318 ],\n",
       "       [18.27895 ],\n",
       "       [18.742989],\n",
       "       [19.189661],\n",
       "       [19.614412],\n",
       "       [20.014074],\n",
       "       [20.387104],\n",
       "       [20.731234],\n",
       "       [21.042145],\n",
       "       [21.317747],\n",
       "       [21.560898],\n",
       "       [21.777498],\n",
       "       [21.972752],\n",
       "       [22.151148],\n",
       "       [22.315199],\n",
       "       [22.46644 ],\n",
       "       [22.606709],\n",
       "       [22.738838],\n",
       "       [22.865374],\n",
       "       [22.993042],\n",
       "       [23.133957],\n",
       "       [23.301737],\n",
       "       [23.507324],\n",
       "       [23.760813],\n",
       "       [24.071184],\n",
       "       [24.445263],\n",
       "       [24.8865  ],\n",
       "       [25.394196],\n",
       "       [25.961666],\n",
       "       [26.579597],\n",
       "       [27.238716],\n",
       "       [27.929874],\n",
       "       [28.639832],\n",
       "       [29.357483],\n",
       "       [30.075626],\n",
       "       [30.78898 ],\n",
       "       [31.495651],\n",
       "       [32.190174],\n",
       "       [32.863926],\n",
       "       [33.50931 ],\n",
       "       [34.120007],\n",
       "       [34.693768],\n",
       "       [35.22727 ],\n",
       "       [35.72005 ],\n",
       "       [36.168545],\n",
       "       [36.572567],\n",
       "       [36.932205],\n",
       "       [37.24738 ],\n",
       "       [37.51815 ],\n",
       "       [37.74392 ],\n",
       "       [37.921432],\n",
       "       [38.04942 ],\n",
       "       [38.130466],\n",
       "       [38.1697  ],\n",
       "       [38.17401 ],\n",
       "       [38.151024],\n",
       "       [38.106907],\n",
       "       [38.046906],\n",
       "       [37.97012 ],\n",
       "       [37.874924],\n",
       "       [37.762894],\n",
       "       [37.63982 ],\n",
       "       [37.5169  ],\n",
       "       [37.407127],\n",
       "       [37.31992 ],\n",
       "       [37.260784],\n",
       "       [37.22808 ],\n",
       "       [37.21093 ],\n",
       "       [37.203583],\n",
       "       [37.202038],\n",
       "       [37.21106 ],\n",
       "       [37.24127 ],\n",
       "       [37.306095],\n",
       "       [37.419025],\n",
       "       [37.588318],\n",
       "       [37.81363 ],\n",
       "       [38.09005 ],\n",
       "       [38.410557],\n",
       "       [38.76823 ],\n",
       "       [39.156116],\n",
       "       [39.568466],\n",
       "       [39.999638],\n",
       "       [40.441704],\n",
       "       [40.887016],\n",
       "       [41.33011 ],\n",
       "       [41.764072],\n",
       "       [42.182858],\n",
       "       [42.57875 ],\n",
       "       [42.944706],\n",
       "       [43.27748 ],\n",
       "       [43.57833 ],\n",
       "       [43.852844],\n",
       "       [44.10413 ],\n",
       "       [44.336475],\n",
       "       [44.5554  ],\n",
       "       [44.769577],\n",
       "       [44.988182],\n",
       "       [45.221813],\n",
       "       [45.47719 ],\n",
       "       [45.757183],\n",
       "       [46.060646],\n",
       "       [46.384945],\n",
       "       [46.72828 ],\n",
       "       [47.08743 ],\n",
       "       [47.458042],\n",
       "       [47.836937],\n",
       "       [48.21625 ],\n",
       "       [48.592987],\n",
       "       [48.966743],\n",
       "       [49.33509 ],\n",
       "       [49.68751 ],\n",
       "       [50.011497],\n",
       "       [50.296505],\n",
       "       [50.531734],\n",
       "       [50.710094],\n",
       "       [50.829887],\n",
       "       [50.89439 ]], dtype=float32)"
      ]
     },
     "execution_count": 191,
     "metadata": {},
     "output_type": "execute_result"
    }
   ],
   "source": [
    "y_pred"
   ]
  },
  {
   "cell_type": "code",
   "execution_count": 192,
   "id": "baf19dee-a362-4adc-8d91-d8a4b3fb3fb9",
   "metadata": {
    "scrolled": true
   },
   "outputs": [
    {
     "data": {
      "text/plain": [
       "array([ 1.989998  ,  1.519997  ,  1.854996  ,  4.31999999,  5.49999999,\n",
       "        2.559998  ,  1.849999  ,  3.68499799,  1.209999  ,  4.54999599,\n",
       "        6.88999999,  6.01799799,  7.26999699,  7.42999999,  5.87999699,\n",
       "       10.43999498, 13.61999498, 14.04000098, 11.68999498, 12.76999698,\n",
       "       13.54000098, 13.23500098, 12.34999898, 14.22999598, 21.27999897,\n",
       "       17.99999997, 17.17499597, 18.11999497, 17.17999997, 15.02999898,\n",
       "       10.22999598,  9.49999999,  9.15000199,  9.22999599, 10.02999899,\n",
       "        9.55999799,  7.72999599,  6.42399599,  6.61999499,  4.11999499,\n",
       "        4.57999399,  4.02999899,  4.65000199,  4.34999899,  7.22999599,\n",
       "        8.84999899,  9.90999599,  8.89499699,  8.97999599,  6.98999799,\n",
       "        5.05499999,  7.55999799,  8.02999899, 11.05999798, 15.32999398,\n",
       "       15.54999598, 16.47000098, 19.62999697, 20.37999697, 20.22999597,\n",
       "       19.80999797, 17.48999797, 17.20999897, 15.92999998, 16.19999698,\n",
       "       17.15999597, 19.32999397, 20.61000097, 20.25999497, 21.87999697,\n",
       "       21.40999597, 21.87999697, 20.95999897, 22.17999997, 19.91999797,\n",
       "       21.48999797, 18.70499397, 19.13999997, 20.57999397, 20.54000097,\n",
       "       21.09999897, 20.04999597, 19.72000097, 22.29000097, 22.20999897,\n",
       "       22.15000197, 20.70999897, 20.65000197, 19.80999797, 20.28499597,\n",
       "       23.26999697, 23.04000097, 30.34999895, 31.48999795, 30.97999595,\n",
       "       31.31999995, 34.66999795, 36.04999595, 38.68999494, 37.99999994,\n",
       "       39.41999794, 36.36999495, 39.69999694, 38.55499994, 40.77999894,\n",
       "       38.18999494, 37.98999794, 38.97999594, 39.09999894, 41.08999594,\n",
       "       42.06499494, 37.07499694, 37.04999595, 37.88499494, 40.13999994,\n",
       "       38.29000094, 38.36999494, 41.18999494, 38.02500194, 37.72499894,\n",
       "       35.15000195, 36.52999895, 35.95600095, 32.32999395, 32.44999695,\n",
       "       34.57999395, 35.58999595, 34.80999795, 34.54999595, 35.12999695,\n",
       "       35.37999695, 33.55999795, 31.24999995, 33.79000095, 36.02999895,\n",
       "       39.61999494, 40.54999594, 39.39499694, 39.27999894, 36.61000095,\n",
       "       35.36000095, 36.41600095, 36.36999495, 44.84999893, 46.29000093,\n",
       "       45.45999893, 47.49999293, 45.34499393, 44.32999393, 42.85999294,\n",
       "       44.09000393, 43.99999293, 45.46999393, 46.67999993, 46.45999893,\n",
       "       43.69199394, 44.34000393, 46.07999393, 43.76999694, 44.93999493,\n",
       "       43.54999594, 42.33999594, 43.62000294, 45.34000393, 49.21700293,\n",
       "       44.62999693, 46.56999993, 47.48799893, 50.06000493, 51.54000092,\n",
       "       52.91999092, 50.92999992, 51.50499692, 49.09000393, 50.35999293,\n",
       "       51.87000292, 51.62000292, 50.38999193, 52.87999692, 53.29000092,\n",
       "       52.12000292, 52.73999792, 53.31999992, 46.87999693, 46.16999093,\n",
       "       45.26000193, 45.40399893, 43.92999993, 45.17999993, 48.56999993,\n",
       "       46.64499693])"
      ]
     },
     "execution_count": 192,
     "metadata": {},
     "output_type": "execute_result"
    }
   ],
   "source": [
    "y_test"
   ]
  },
  {
   "cell_type": "markdown",
   "id": "e8c713cb-7234-47c7-b98b-385cc256c93d",
   "metadata": {},
   "source": [
    "## VISUALIZATION OF THE STOCK PRICE"
   ]
  },
  {
   "cell_type": "code",
   "execution_count": 211,
   "id": "fabb7db9-28ed-49e1-919a-b45f9b215443",
   "metadata": {},
   "outputs": [
    {
     "data": {
      "image/png": "[encoded data removed]",
      "text/plain": [
       "<Figure size 1400x500 with 1 Axes>"
      ]
     },
     "metadata": {},
     "output_type": "display_data"
    }
   ],
   "source": [
    "#visualizing the opening prices\n",
    "plt.figure(figsize=(14,5))\n",
    "plt.title('Opening price of stock')\n",
    "plt.plot(df[\"Open\"])\n",
    "plt.xlabel('Data')\n",
    "plt.ylabel('Opening Price')\n",
    "plt.show()"
   ]
  },
  {
   "cell_type": "code",
   "execution_count": 210,
   "id": "184af6b2-840d-48e0-b701-e5a8b2081795",
   "metadata": {},
   "outputs": [
    {
     "data": {
      "image/png": "[encoded data removed]",
      "text/plain": [
       "<Figure size 1400x500 with 1 Axes>"
      ]
     },
     "metadata": {},
     "output_type": "display_data"
    }
   ],
   "source": [
    "#visualizing the closing prices\n",
    "plt.figure(figsize=(14,5))\n",
    "plt.title('Closing price of stock')\n",
    "plt.plot(df[\"Close\"])\n",
    "plt.xlabel('Data')\n",
    "plt.ylabel('Closing Price')\n",
    "plt.show()"
   ]
  },
  {
   "cell_type": "code",
   "execution_count": 209,
   "id": "e8941f4a-deae-49eb-9ba6-7c7b330edefb",
   "metadata": {},
   "outputs": [
    {
     "data": {
      "image/png": "[encoded data removed]",
      "text/plain": [
       "<Figure size 1400x500 with 1 Axes>"
      ]
     },
     "metadata": {},
     "output_type": "display_data"
    }
   ],
   "source": [
    "#visualizing the real stock price and predicted stock price\n",
    "import matplotlib.pyplot as plt\n",
    "import seaborn as sns\n",
    "\n",
    "plt.figure(figsize=(14,5))\n",
    "plt.plot(y_test, color='red', label= 'Real Google Stock Price')\n",
    "plt.plot(y_pred, color='blue', label= 'Predicted Google Stock Price')\n",
    "plt.title('Google Stock Price Prediction')\n",
    "plt.xlabel('Google Stock Price')\n",
    "plt.ylabel('Time')\n",
    "plt.legend()\n",
    "plt.show()"
   ]
  },
  {
   "cell_type": "code",
   "execution_count": null,
   "id": "9fa9a07d-cef5-4e5f-9be7-be71ef69333f",
   "metadata": {},
   "outputs": [],
   "source": []
  }
 ],
 "metadata": {
  "kernelspec": {
   "display_name": "Python 3 (ipykernel)",
   "language": "python",
   "name": "python3"
  },
  "language_info": {
   "codemirror_mode": {
    "name": "ipython",
    "version": 3
   },
   "file_extension": ".py",
   "mimetype": "text/x-python",
   "name": "python",
   "nbconvert_exporter": "python",
   "pygments_lexer": "ipython3",
   "version": "3.11.4"
  }
 },
 "nbformat": 4,
 "nbformat_minor": 5
}
